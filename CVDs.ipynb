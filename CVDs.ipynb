{
 "cells": [
  {
   "cell_type": "code",
   "execution_count": 3,
   "metadata": {},
   "outputs": [],
   "source": [
    "%load_ext autoreload\n",
    "%autoreload 2"
   ]
  },
  {
   "cell_type": "code",
   "execution_count": 4,
   "metadata": {},
   "outputs": [],
   "source": [
    "import pandas as pd \n",
    "import numpy as np\n",
    "from sklearn import preprocessing\n",
    "from Clasificador import RegresionLogistica, RegresionLineal\n",
    "from sklearn.model_selection import train_test_split"
   ]
  },
  {
   "cell_type": "markdown",
   "metadata": {},
   "source": [
    "## Análisis Previo (CVDs)"
   ]
  },
  {
   "cell_type": "code",
   "execution_count": 5,
   "metadata": {},
   "outputs": [
    {
     "name": "stdout",
     "output_type": "stream",
     "text": [
      "(299, 13)\n"
     ]
    }
   ],
   "source": [
    "heartdata=pd.read_csv('heart_failure_clinical_records_dataset.csv')\n",
    "print(heartdata.shape)"
   ]
  },
  {
   "cell_type": "code",
   "execution_count": 6,
   "metadata": {},
   "outputs": [
    {
     "data": {
      "text/html": [
       "<div>\n",
       "<style scoped>\n",
       "    .dataframe tbody tr th:only-of-type {\n",
       "        vertical-align: middle;\n",
       "    }\n",
       "\n",
       "    .dataframe tbody tr th {\n",
       "        vertical-align: top;\n",
       "    }\n",
       "\n",
       "    .dataframe thead th {\n",
       "        text-align: right;\n",
       "    }\n",
       "</style>\n",
       "<table border=\"1\" class=\"dataframe\">\n",
       "  <thead>\n",
       "    <tr style=\"text-align: right;\">\n",
       "      <th></th>\n",
       "      <th>age</th>\n",
       "      <th>anaemia</th>\n",
       "      <th>creatinine_phosphokinase</th>\n",
       "      <th>diabetes</th>\n",
       "      <th>ejection_fraction</th>\n",
       "      <th>high_blood_pressure</th>\n",
       "      <th>platelets</th>\n",
       "      <th>serum_creatinine</th>\n",
       "      <th>serum_sodium</th>\n",
       "      <th>sex</th>\n",
       "      <th>smoking</th>\n",
       "      <th>time</th>\n",
       "      <th>DEATH_EVENT</th>\n",
       "    </tr>\n",
       "  </thead>\n",
       "  <tbody>\n",
       "    <tr>\n",
       "      <th>0</th>\n",
       "      <td>75.0</td>\n",
       "      <td>0</td>\n",
       "      <td>582</td>\n",
       "      <td>0</td>\n",
       "      <td>20</td>\n",
       "      <td>1</td>\n",
       "      <td>265000.00</td>\n",
       "      <td>1.9</td>\n",
       "      <td>130</td>\n",
       "      <td>1</td>\n",
       "      <td>0</td>\n",
       "      <td>4</td>\n",
       "      <td>1</td>\n",
       "    </tr>\n",
       "    <tr>\n",
       "      <th>1</th>\n",
       "      <td>55.0</td>\n",
       "      <td>0</td>\n",
       "      <td>7861</td>\n",
       "      <td>0</td>\n",
       "      <td>38</td>\n",
       "      <td>0</td>\n",
       "      <td>263358.03</td>\n",
       "      <td>1.1</td>\n",
       "      <td>136</td>\n",
       "      <td>1</td>\n",
       "      <td>0</td>\n",
       "      <td>6</td>\n",
       "      <td>1</td>\n",
       "    </tr>\n",
       "    <tr>\n",
       "      <th>2</th>\n",
       "      <td>65.0</td>\n",
       "      <td>0</td>\n",
       "      <td>146</td>\n",
       "      <td>0</td>\n",
       "      <td>20</td>\n",
       "      <td>0</td>\n",
       "      <td>162000.00</td>\n",
       "      <td>1.3</td>\n",
       "      <td>129</td>\n",
       "      <td>1</td>\n",
       "      <td>1</td>\n",
       "      <td>7</td>\n",
       "      <td>1</td>\n",
       "    </tr>\n",
       "    <tr>\n",
       "      <th>3</th>\n",
       "      <td>50.0</td>\n",
       "      <td>1</td>\n",
       "      <td>111</td>\n",
       "      <td>0</td>\n",
       "      <td>20</td>\n",
       "      <td>0</td>\n",
       "      <td>210000.00</td>\n",
       "      <td>1.9</td>\n",
       "      <td>137</td>\n",
       "      <td>1</td>\n",
       "      <td>0</td>\n",
       "      <td>7</td>\n",
       "      <td>1</td>\n",
       "    </tr>\n",
       "    <tr>\n",
       "      <th>4</th>\n",
       "      <td>65.0</td>\n",
       "      <td>1</td>\n",
       "      <td>160</td>\n",
       "      <td>1</td>\n",
       "      <td>20</td>\n",
       "      <td>0</td>\n",
       "      <td>327000.00</td>\n",
       "      <td>2.7</td>\n",
       "      <td>116</td>\n",
       "      <td>0</td>\n",
       "      <td>0</td>\n",
       "      <td>8</td>\n",
       "      <td>1</td>\n",
       "    </tr>\n",
       "  </tbody>\n",
       "</table>\n",
       "</div>"
      ],
      "text/plain": [
       "    age  anaemia  creatinine_phosphokinase  diabetes  ejection_fraction  \\\n",
       "0  75.0        0                       582         0                 20   \n",
       "1  55.0        0                      7861         0                 38   \n",
       "2  65.0        0                       146         0                 20   \n",
       "3  50.0        1                       111         0                 20   \n",
       "4  65.0        1                       160         1                 20   \n",
       "\n",
       "   high_blood_pressure  platelets  serum_creatinine  serum_sodium  sex  \\\n",
       "0                    1  265000.00               1.9           130    1   \n",
       "1                    0  263358.03               1.1           136    1   \n",
       "2                    0  162000.00               1.3           129    1   \n",
       "3                    0  210000.00               1.9           137    1   \n",
       "4                    0  327000.00               2.7           116    0   \n",
       "\n",
       "   smoking  time  DEATH_EVENT  \n",
       "0        0     4            1  \n",
       "1        0     6            1  \n",
       "2        1     7            1  \n",
       "3        0     7            1  \n",
       "4        0     8            1  "
      ]
     },
     "execution_count": 6,
     "metadata": {},
     "output_type": "execute_result"
    }
   ],
   "source": [
    "heartdata.head()"
   ]
  },
  {
   "cell_type": "code",
   "execution_count": 7,
   "metadata": {},
   "outputs": [
    {
     "name": "stdout",
     "output_type": "stream",
     "text": [
      "<class 'pandas.core.frame.DataFrame'>\n",
      "RangeIndex: 299 entries, 0 to 298\n",
      "Data columns (total 13 columns):\n",
      " #   Column                    Non-Null Count  Dtype  \n",
      "---  ------                    --------------  -----  \n",
      " 0   age                       299 non-null    float64\n",
      " 1   anaemia                   299 non-null    int64  \n",
      " 2   creatinine_phosphokinase  299 non-null    int64  \n",
      " 3   diabetes                  299 non-null    int64  \n",
      " 4   ejection_fraction         299 non-null    int64  \n",
      " 5   high_blood_pressure       299 non-null    int64  \n",
      " 6   platelets                 299 non-null    float64\n",
      " 7   serum_creatinine          299 non-null    float64\n",
      " 8   serum_sodium              299 non-null    int64  \n",
      " 9   sex                       299 non-null    int64  \n",
      " 10  smoking                   299 non-null    int64  \n",
      " 11  time                      299 non-null    int64  \n",
      " 12  DEATH_EVENT               299 non-null    int64  \n",
      "dtypes: float64(3), int64(10)\n",
      "memory usage: 30.5 KB\n"
     ]
    }
   ],
   "source": [
    "heartdata.info()"
   ]
  },
  {
   "cell_type": "code",
   "execution_count": 8,
   "metadata": {},
   "outputs": [
    {
     "data": {
      "text/html": [
       "<div>\n",
       "<style scoped>\n",
       "    .dataframe tbody tr th:only-of-type {\n",
       "        vertical-align: middle;\n",
       "    }\n",
       "\n",
       "    .dataframe tbody tr th {\n",
       "        vertical-align: top;\n",
       "    }\n",
       "\n",
       "    .dataframe thead th {\n",
       "        text-align: right;\n",
       "    }\n",
       "</style>\n",
       "<table border=\"1\" class=\"dataframe\">\n",
       "  <thead>\n",
       "    <tr style=\"text-align: right;\">\n",
       "      <th></th>\n",
       "      <th>anaemia</th>\n",
       "      <th>creatinine_phosphokinase</th>\n",
       "      <th>diabetes</th>\n",
       "      <th>ejection_fraction</th>\n",
       "      <th>high_blood_pressure</th>\n",
       "      <th>serum_sodium</th>\n",
       "      <th>sex</th>\n",
       "      <th>smoking</th>\n",
       "      <th>time</th>\n",
       "      <th>DEATH_EVENT</th>\n",
       "    </tr>\n",
       "  </thead>\n",
       "  <tbody>\n",
       "    <tr>\n",
       "      <th>count</th>\n",
       "      <td>299.000000</td>\n",
       "      <td>299.000000</td>\n",
       "      <td>299.000000</td>\n",
       "      <td>299.000000</td>\n",
       "      <td>299.000000</td>\n",
       "      <td>299.000000</td>\n",
       "      <td>299.000000</td>\n",
       "      <td>299.00000</td>\n",
       "      <td>299.000000</td>\n",
       "      <td>299.00000</td>\n",
       "    </tr>\n",
       "    <tr>\n",
       "      <th>mean</th>\n",
       "      <td>0.431438</td>\n",
       "      <td>581.839465</td>\n",
       "      <td>0.418060</td>\n",
       "      <td>38.083612</td>\n",
       "      <td>0.351171</td>\n",
       "      <td>136.625418</td>\n",
       "      <td>0.648829</td>\n",
       "      <td>0.32107</td>\n",
       "      <td>130.260870</td>\n",
       "      <td>0.32107</td>\n",
       "    </tr>\n",
       "    <tr>\n",
       "      <th>std</th>\n",
       "      <td>0.496107</td>\n",
       "      <td>970.287881</td>\n",
       "      <td>0.494067</td>\n",
       "      <td>11.834841</td>\n",
       "      <td>0.478136</td>\n",
       "      <td>4.412477</td>\n",
       "      <td>0.478136</td>\n",
       "      <td>0.46767</td>\n",
       "      <td>77.614208</td>\n",
       "      <td>0.46767</td>\n",
       "    </tr>\n",
       "    <tr>\n",
       "      <th>min</th>\n",
       "      <td>0.000000</td>\n",
       "      <td>23.000000</td>\n",
       "      <td>0.000000</td>\n",
       "      <td>14.000000</td>\n",
       "      <td>0.000000</td>\n",
       "      <td>113.000000</td>\n",
       "      <td>0.000000</td>\n",
       "      <td>0.00000</td>\n",
       "      <td>4.000000</td>\n",
       "      <td>0.00000</td>\n",
       "    </tr>\n",
       "    <tr>\n",
       "      <th>25%</th>\n",
       "      <td>0.000000</td>\n",
       "      <td>116.500000</td>\n",
       "      <td>0.000000</td>\n",
       "      <td>30.000000</td>\n",
       "      <td>0.000000</td>\n",
       "      <td>134.000000</td>\n",
       "      <td>0.000000</td>\n",
       "      <td>0.00000</td>\n",
       "      <td>73.000000</td>\n",
       "      <td>0.00000</td>\n",
       "    </tr>\n",
       "    <tr>\n",
       "      <th>50%</th>\n",
       "      <td>0.000000</td>\n",
       "      <td>250.000000</td>\n",
       "      <td>0.000000</td>\n",
       "      <td>38.000000</td>\n",
       "      <td>0.000000</td>\n",
       "      <td>137.000000</td>\n",
       "      <td>1.000000</td>\n",
       "      <td>0.00000</td>\n",
       "      <td>115.000000</td>\n",
       "      <td>0.00000</td>\n",
       "    </tr>\n",
       "    <tr>\n",
       "      <th>75%</th>\n",
       "      <td>1.000000</td>\n",
       "      <td>582.000000</td>\n",
       "      <td>1.000000</td>\n",
       "      <td>45.000000</td>\n",
       "      <td>1.000000</td>\n",
       "      <td>140.000000</td>\n",
       "      <td>1.000000</td>\n",
       "      <td>1.00000</td>\n",
       "      <td>203.000000</td>\n",
       "      <td>1.00000</td>\n",
       "    </tr>\n",
       "    <tr>\n",
       "      <th>max</th>\n",
       "      <td>1.000000</td>\n",
       "      <td>7861.000000</td>\n",
       "      <td>1.000000</td>\n",
       "      <td>80.000000</td>\n",
       "      <td>1.000000</td>\n",
       "      <td>148.000000</td>\n",
       "      <td>1.000000</td>\n",
       "      <td>1.00000</td>\n",
       "      <td>285.000000</td>\n",
       "      <td>1.00000</td>\n",
       "    </tr>\n",
       "  </tbody>\n",
       "</table>\n",
       "</div>"
      ],
      "text/plain": [
       "          anaemia  creatinine_phosphokinase    diabetes  ejection_fraction  \\\n",
       "count  299.000000                299.000000  299.000000         299.000000   \n",
       "mean     0.431438                581.839465    0.418060          38.083612   \n",
       "std      0.496107                970.287881    0.494067          11.834841   \n",
       "min      0.000000                 23.000000    0.000000          14.000000   \n",
       "25%      0.000000                116.500000    0.000000          30.000000   \n",
       "50%      0.000000                250.000000    0.000000          38.000000   \n",
       "75%      1.000000                582.000000    1.000000          45.000000   \n",
       "max      1.000000               7861.000000    1.000000          80.000000   \n",
       "\n",
       "       high_blood_pressure  serum_sodium         sex    smoking        time  \\\n",
       "count           299.000000    299.000000  299.000000  299.00000  299.000000   \n",
       "mean              0.351171    136.625418    0.648829    0.32107  130.260870   \n",
       "std               0.478136      4.412477    0.478136    0.46767   77.614208   \n",
       "min               0.000000    113.000000    0.000000    0.00000    4.000000   \n",
       "25%               0.000000    134.000000    0.000000    0.00000   73.000000   \n",
       "50%               0.000000    137.000000    1.000000    0.00000  115.000000   \n",
       "75%               1.000000    140.000000    1.000000    1.00000  203.000000   \n",
       "max               1.000000    148.000000    1.000000    1.00000  285.000000   \n",
       "\n",
       "       DEATH_EVENT  \n",
       "count    299.00000  \n",
       "mean       0.32107  \n",
       "std        0.46767  \n",
       "min        0.00000  \n",
       "25%        0.00000  \n",
       "50%        0.00000  \n",
       "75%        1.00000  \n",
       "max        1.00000  "
      ]
     },
     "execution_count": 8,
     "metadata": {},
     "output_type": "execute_result"
    }
   ],
   "source": [
    "heartdata.describe(include=['int64'])"
   ]
  },
  {
   "cell_type": "code",
   "execution_count": 9,
   "metadata": {},
   "outputs": [
    {
     "ename": "NameError",
     "evalue": "name 'LogisticRegression' is not defined",
     "output_type": "error",
     "traceback": [
      "\u001b[0;31m---------------------------------------------------------------------------\u001b[0m",
      "\u001b[0;31mNameError\u001b[0m                                 Traceback (most recent call last)",
      "\u001b[0;32m<ipython-input-9-9c0801516215>\u001b[0m in \u001b[0;36m<module>\u001b[0;34m\u001b[0m\n\u001b[1;32m      3\u001b[0m \u001b[0mydata\u001b[0m \u001b[0;34m=\u001b[0m \u001b[0mdata\u001b[0m\u001b[0;34m[\u001b[0m\u001b[0;34m:\u001b[0m\u001b[0;34m,\u001b[0m \u001b[0;34m-\u001b[0m\u001b[0;36m1\u001b[0m\u001b[0;34m]\u001b[0m\u001b[0;34m\u001b[0m\u001b[0;34m\u001b[0m\u001b[0m\n\u001b[1;32m      4\u001b[0m \u001b[0mxdata\u001b[0m \u001b[0;34m=\u001b[0m \u001b[0mpreprocessing\u001b[0m\u001b[0;34m.\u001b[0m\u001b[0mscale\u001b[0m\u001b[0;34m(\u001b[0m\u001b[0mxdata\u001b[0m\u001b[0;34m)\u001b[0m\u001b[0;34m\u001b[0m\u001b[0;34m\u001b[0m\u001b[0m\n\u001b[0;32m----> 5\u001b[0;31m \u001b[0mreg\u001b[0m \u001b[0;34m=\u001b[0m \u001b[0mLogisticRegression\u001b[0m\u001b[0;34m(\u001b[0m\u001b[0mrandom_state\u001b[0m\u001b[0;34m=\u001b[0m\u001b[0;36m0\u001b[0m\u001b[0;34m)\u001b[0m\u001b[0;34m\u001b[0m\u001b[0;34m\u001b[0m\u001b[0m\n\u001b[0m\u001b[1;32m      6\u001b[0m \u001b[0mscores\u001b[0m \u001b[0;34m=\u001b[0m \u001b[0mcross_val_score\u001b[0m\u001b[0;34m(\u001b[0m\u001b[0mreg\u001b[0m\u001b[0;34m,\u001b[0m \u001b[0mxdata\u001b[0m\u001b[0;34m,\u001b[0m \u001b[0mydata\u001b[0m\u001b[0;34m,\u001b[0m \u001b[0mcv\u001b[0m \u001b[0;34m=\u001b[0m \u001b[0;36m5\u001b[0m\u001b[0;34m)\u001b[0m\u001b[0;34m\u001b[0m\u001b[0;34m\u001b[0m\u001b[0m\n\u001b[1;32m      7\u001b[0m \u001b[0mprint\u001b[0m\u001b[0;34m(\u001b[0m\u001b[0mscores\u001b[0m\u001b[0;34m,\u001b[0m \u001b[0mnp\u001b[0m\u001b[0;34m.\u001b[0m\u001b[0mmean\u001b[0m\u001b[0;34m(\u001b[0m\u001b[0mscores\u001b[0m\u001b[0;34m)\u001b[0m\u001b[0;34m,\u001b[0m \u001b[0mnp\u001b[0m\u001b[0;34m.\u001b[0m\u001b[0mstd\u001b[0m\u001b[0;34m(\u001b[0m\u001b[0mscores\u001b[0m\u001b[0;34m)\u001b[0m\u001b[0;34m)\u001b[0m\u001b[0;34m\u001b[0m\u001b[0;34m\u001b[0m\u001b[0m\n",
      "\u001b[0;31mNameError\u001b[0m: name 'LogisticRegression' is not defined"
     ]
    }
   ],
   "source": [
    "data = heartdata.to_numpy()\n",
    "xdata = data[:, :-1]\n",
    "ydata = data[:, -1]\n",
    "xdata = preprocessing.scale(xdata)\n",
    "reg = LogisticRegression(random_state=0)\n",
    "scores = cross_val_score(reg, xdata, ydata, cv = 5)\n",
    "print(scores, np.mean(scores), np.std(scores))"
   ]
  },
  {
   "cell_type": "markdown",
   "metadata": {},
   "source": [
    "Con Regresión Logistica conseguimos un score de **0.77** aprox"
   ]
  },
  {
   "cell_type": "markdown",
   "metadata": {},
   "source": [
    "## Teniendo en cuenta TTE"
   ]
  },
  {
   "cell_type": "markdown",
   "metadata": {},
   "source": [
    "Fuentes:\n",
    " - https://www.publichealth.columbia.edu/research/population-health-methods/time-event-data-analysis\n",
    " - https://www.kaggle.com/andrewmvd/heart-failure-clinical-data/discussion/178372"
   ]
  },
  {
   "cell_type": "markdown",
   "metadata": {},
   "source": [
    "**El análisis previo está mal, estoy usando el tiempo como una variable regresora cuando debe ser parte de la predicción. Esta base de datos es de la forma TTE (Time-To-Event) por tanto intenta predecir tanto un evento como el tiempo en el que se produce. Para hacer un análisis adecuado a lo visto en la asignatura vamos a omitir la columna de tiempo e intentaremos predecir solamente el evento con las 11 características restantes.** "
   ]
  },
  {
   "cell_type": "markdown",
   "metadata": {},
   "source": [
    "**El valor medio de la variable tiempo es de 130 días, con una desviación típica de 78 días. Por tanto si no hacemos caso a dicha columna estamos predeciento la muerte o no del paciente en un intervalo de tiempo entre 2 y 6 meses aproximadamente a partir de las mediciones tomadas.** "
   ]
  },
  {
   "cell_type": "markdown",
   "metadata": {},
   "source": [
    "Dichas mediciones se realizan con pruebas clínicas a las cuales el paciente se somete por sospecha suya o del doctor de posible CVD. Por tanto nuestro sistema va a predecir la muerte/(supervivencia*) del paciente tras las mediciones en torno a los 4 meses posteriores a las pruebas."
   ]
  },
  {
   "cell_type": "markdown",
   "metadata": {},
   "source": [
    "Otra motivación a tener en cuenta cuando analizemos esta bbdd será indicar que atributos son más decisivos para predecir muerte con el fín de evitarlos."
   ]
  },
  {
   "cell_type": "code",
   "execution_count": 18,
   "metadata": {},
   "outputs": [],
   "source": [
    "nreps = 100"
   ]
  },
  {
   "cell_type": "code",
   "execution_count": 19,
   "metadata": {},
   "outputs": [],
   "source": [
    "def prep_cvd_data(data):\n",
    "    # Primero barajamos los datos\n",
    "    np.random.shuffle(data)\n",
    "    # Guardamos en xdata las variables regresoras\n",
    "    xdata = data[:, :-2]\n",
    "    # Guardamos en ydata la variable respuesta (evento)\n",
    "    ydata = data[:, -1]\n",
    "    # Guardamos en tdata la variable respuesta (tiempo)\n",
    "    tdata = data[:, -2]\n",
    "    # Normalizamos las variables regresoras\n",
    "    xdata = preprocessing.scale(xdata)\n",
    "    return xdata, ydata, tdata"
   ]
  },
  {
   "cell_type": "markdown",
   "metadata": {},
   "source": [
    "### Independientes"
   ]
  },
  {
   "cell_type": "code",
   "execution_count": 20,
   "metadata": {},
   "outputs": [
    {
     "name": "stdout",
     "output_type": "stream",
     "text": [
      "\n",
      "Cometemos un error de 26.42 % prediciendo el evento.\n",
      "\n",
      "\n",
      "Cometemos un EAM de -3.17 prediciendo el tiempo.\n",
      "\n"
     ]
    }
   ],
   "source": [
    "# Cargamos los datos a una matriz\n",
    "data = heartdata.to_numpy()\n",
    "# Definimos lista que guarde todos los scores\n",
    "S1 = []\n",
    "S2 = []\n",
    "# Repetimos nreps veces para sacar el promedio.\n",
    "for i in range(nreps):\n",
    "    #Preprocesamiento de datos\n",
    "    xdata, ydata, tdata = prep_cvd_data(data)\n",
    "    \n",
    "    # Definimos la regresión logística\n",
    "    reg = RegresionLogistica()\n",
    "    # Particionamos los datos para validar correctamente\n",
    "    X_train, X_test, y_train, y_test = train_test_split(xdata, ydata, test_size=0.20, random_state=2)\n",
    "    # Entrenamos\n",
    "    reg.fit(X_train, y_train)\n",
    "    # Sacamos el score\n",
    "    score = reg.score(X_test, y_test)\n",
    "    \n",
    "    # Guardamos resultados de ejecución\n",
    "    S1.append(score)\n",
    "    # Definimos la regresión lineal\n",
    "    lin = RegresionLineal()\n",
    "    # Particionamos, entrenamos y validamos\n",
    "    X_train, X_test, y_train, y_test = train_test_split(xdata, tdata, test_size=0.20, random_state=2)\n",
    "    lin.fit(X_train, y_train)\n",
    "    score = lin.score(X_test, y_test)\n",
    "    \n",
    "    # Guardamos resultados de ejecución\n",
    "    S2.append(score)\n",
    "# Imprimimos el error promedio cometido en el evento. Medido en Porcentaje.\n",
    "print(\"\\nCometemos un error de %.2f\" % (100*(1 - np.mean(S1))) + \" % prediciendo el evento.\\n\")\n",
    "# Imprimimos el error promedio cometido en el tiempo. Medido en EAM.\n",
    "print(\"\\nCometemos un EAM de %.2f\" % (np.mean(S2)) + \" prediciendo el tiempo.\\n\")"
   ]
  },
  {
   "cell_type": "markdown",
   "metadata": {},
   "source": [
    "### Reg-Lin para predecir tiempo y luego Reg-Log para evento"
   ]
  },
  {
   "cell_type": "code",
   "execution_count": 21,
   "metadata": {
    "scrolled": true
   },
   "outputs": [
    {
     "name": "stdout",
     "output_type": "stream",
     "text": [
      "\n",
      "Cometemos un EAM de -3.05 prediciendo el tiempo.\n",
      "\n",
      "\n",
      "Cometemos un error del 26.33 % prediciendo el evento una vez hemos incorporado la predicción del tiempo.\n",
      "\n"
     ]
    }
   ],
   "source": [
    "# Definición de variables\n",
    "data = heartdata.to_numpy()\n",
    "S1 = []\n",
    "S2 = []\n",
    "# Bucle para sacar promedio.\n",
    "for i in range(nreps):\n",
    "    #Preprocesamiento de datos\n",
    "    xdata, ydata, tdata = prep_cvd_data(data)\n",
    "    \n",
    "    #Regresión Lineal para sacar el tiempo\n",
    "    lin = RegresionLineal()\n",
    "    \n",
    "    # Particionado y validación\n",
    "    X_train, X_test, y_train, y_test = train_test_split(xdata, tdata, test_size=0.20, random_state=2)\n",
    "    lin.fit(X_train, y_train)\n",
    "    score = lin.score(X_test, y_test)\n",
    "    \n",
    "    S1.append(score)   \n",
    "    \n",
    "    tpred = lin.predict(xdata)\n",
    "    # Incorporamos la predicción a las variables regresoras y normalizamos\n",
    "    xdata2 = np.column_stack((xdata, tpred))\n",
    "    xdata2 = preprocessing.scale(xdata2)\n",
    "    # Comprobamos la eficacia prediciendo el evento, de nuevo particionamos y validamos.\n",
    "    reg = RegresionLogistica()\n",
    "    X_train, X_test, y_train, y_test = train_test_split(xdata2, ydata, test_size=0.20, random_state=2)\n",
    "    reg.fit(X_train, y_train)\n",
    "    score = reg.score(X_test, y_test)\n",
    "    \n",
    "    S2.append(score)\n",
    "# Imprimimos resultados\n",
    "print(\"\\nCometemos un EAM de %.2f\" % (np.mean(S1)) + \" prediciendo el tiempo.\\n\")\n",
    "print(\"\\nCometemos un error del %.2f\" % (100*(1 - np.mean(S2))) + \" % prediciendo el evento una vez hemos incorporado la predicción del tiempo.\\n\")"
   ]
  },
  {
   "cell_type": "markdown",
   "metadata": {},
   "source": [
    "###  Reg-Log para evento y luego Reg-Lin para predecir tiempo"
   ]
  },
  {
   "cell_type": "code",
   "execution_count": 22,
   "metadata": {},
   "outputs": [
    {
     "name": "stdout",
     "output_type": "stream",
     "text": [
      "\n",
      "Cometemos un error de 26.28 % prediciendo el evento.\n",
      "\n",
      "\n",
      "Cometemos un EAM de -3.17 prediciendo el tiempo una vez hemos incorporado la predicción del evento.\n",
      "\n"
     ]
    }
   ],
   "source": [
    "# Definición de variables\n",
    "data = heartdata.to_numpy()\n",
    "S1 = []\n",
    "S2 = []\n",
    "# Bucle para sacar promedio.\n",
    "for i in range(nreps):\n",
    "    #Preprocesamiento de datos\n",
    "    xdata, ydata, tdata = prep_cvd_data(data)\n",
    "    \n",
    "    # Regresión Logística para predecir el evento\n",
    "    reg = RegresionLogistica()\n",
    "    \n",
    "    # Particionado y validación\n",
    "    X_train, X_test, y_train, y_test = train_test_split(xdata, ydata, test_size=0.20, random_state=2)\n",
    "    reg.fit(X_train, y_train)\n",
    "    score = reg.score(X_test, y_test)\n",
    "    \n",
    "    S1.append(score)\n",
    "    \n",
    "    ypred = reg.predict(xdata)\n",
    "    # Incorporamos la predicción a las variables regresoras y normalizamos\n",
    "    xdata2 = np.column_stack((xdata, ypred))\n",
    "    xdata2 = preprocessing.scale(xdata2)\n",
    "    # Comprobamos la eficacia prediciendo el tiempo, de nuevo particionamos y validamos.\n",
    "    lin = RegresionLineal()\n",
    "    \n",
    "    X_train, X_test, y_train, y_test = train_test_split(xdata2, tdata, test_size=0.20, random_state=2)\n",
    "    lin.fit(X_train, y_train)\n",
    "    score = lin.score(X_test, y_test)\n",
    "    \n",
    "    S2.append(score)\n",
    "# Imprimimos resultados\n",
    "print(\"\\nCometemos un error de %.2f\" % (100*(1 - np.mean(S1))) + \" % prediciendo el evento.\\n\")\n",
    "print(\"\\nCometemos un EAM de %.2f\" % (np.mean(S2)) + \" prediciendo el tiempo una vez hemos incorporado la predicción del evento.\\n\")"
   ]
  },
  {
   "cell_type": "markdown",
   "metadata": {},
   "source": [
    "**En este caso tenemos 2 variables respuesta, una de ellas es binaria y la otra es numérica. Para predecir cada una ellas hemos usado regresión logística y lineal respectivamente. Se nos planteó entonces el dilema de si la predicción del tiempo es independiente de la predicción del evento y por tanto hemos probado 3 variantes distintas. La primera consiste en predecir cada variable respuesta usando sólo las 11 variables regresoras. La segunta consiste en predecir primero el tiempo y posteriormente usar esta predicción como variable regresora para predecir el evento. La tercera es idéntica a la segunda solo que predice primero el evento.**"
   ]
  },
  {
   "cell_type": "markdown",
   "metadata": {},
   "source": [
    "Los resultados obtenidos son prácticamente idénticos en las tres variantes, lo cual nos indiaca que el tiempo de finalización del estudio es independiente del evento por el cual el estudio termina. Obtenemos un error del 26% aproximadamente y un EAM en el tiempo de unos 2 meses. Aunque son errores \"decentes\" para unas bbdd de sólo 300 ejemplos, pensamos que estas técnicas de regresión lineal y logística no son lo suficientemente potentes en este caso. Hay técnicas mucho más potentes y especializadas en tratar con bastes de datos TTE (Time- To-Event). Como curiosidad, comentamos que usando algoritmos como random-forest o decission-trees se consigue un score en torno al 93-95% aunque esto escapa del temario de esta asignatura."
   ]
  }
 ],
 "metadata": {
  "kernelspec": {
   "display_name": "Python 3",
   "language": "python",
   "name": "python3"
  },
  "language_info": {
   "codemirror_mode": {
    "name": "ipython",
    "version": 3
   },
   "file_extension": ".py",
   "mimetype": "text/x-python",
   "name": "python",
   "nbconvert_exporter": "python",
   "pygments_lexer": "ipython3",
   "version": "3.8.2"
  }
 },
 "nbformat": 4,
 "nbformat_minor": 4
}
